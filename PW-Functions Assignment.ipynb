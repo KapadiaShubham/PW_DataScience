{
 "cells": [
  {
   "cell_type": "markdown",
   "id": "06740767",
   "metadata": {},
   "source": [
    "Ans-1)<br/>\n",
    "The keyword used to create a function in Python is \"def\"."
   ]
  },
  {
   "cell_type": "code",
   "execution_count": 1,
   "id": "163ae6f1",
   "metadata": {},
   "outputs": [
    {
     "name": "stdout",
     "output_type": "stream",
     "text": [
      "[1, 3, 5, 7, 9, 11, 13, 15, 17, 19, 21, 23, 25]\n"
     ]
    }
   ],
   "source": [
    "def get_odd_numbers():\n",
    "    odd_numbers = []\n",
    "    for i in range(1, 26):\n",
    "        if i % 2 != 0:\n",
    "            odd_numbers.append(i)\n",
    "    return odd_numbers\n",
    "\n",
    "print(get_odd_numbers())"
   ]
  },
  {
   "cell_type": "markdown",
   "id": "fef3f915",
   "metadata": {},
   "source": [
    "Ans-2)<br/>\n",
    "- **\\*args** and **\\*\\*kwargs** are used in Python functions to allow a function to take a variable number of arguments.\n",
    "- **\\*args** is used to pass a non-keyworded, variable length argument list to a function. This allows the function to accept any number of arguments beyond the specified parameters, and these arguments are passed to the function as a tuple.\n",
    "- **\\*\\*kwargs** is used to pass keyworded, variable length argument dictionary to a function. This allows the function to accept any number of keyword arguments beyond the specified parameters, and these arguments are passed to the function as a dictionary."
   ]
  },
  {
   "cell_type": "code",
   "execution_count": 2,
   "id": "3d2271ea",
   "metadata": {},
   "outputs": [
    {
     "name": "stdout",
     "output_type": "stream",
     "text": [
      "15\n"
     ]
    }
   ],
   "source": [
    "def sum_numbers(*args):\n",
    "    total = 0\n",
    "    for num in args:\n",
    "        total += num\n",
    "    return total\n",
    "\n",
    "print(sum_numbers(1, 2, 3, 4, 5))"
   ]
  },
  {
   "cell_type": "code",
   "execution_count": 3,
   "id": "0aff44f6",
   "metadata": {},
   "outputs": [
    {
     "name": "stdout",
     "output_type": "stream",
     "text": [
      "name : John\n",
      "age : 30\n",
      "city : New York\n"
     ]
    }
   ],
   "source": [
    "def print_keyword_arguments(**kwargs):\n",
    "    for key, value in kwargs.items():\n",
    "        print(f\"{key} : {value}\")\n",
    "\n",
    "print_keyword_arguments(name=\"John\", age=30, city=\"New York\")"
   ]
  },
  {
   "cell_type": "markdown",
   "id": "46492055",
   "metadata": {},
   "source": [
    "An iterator in Python is an object that can be iterated (looped) upon. An object which will return data, one element at a time. An iterator object implements two methods, **\\_\\_iter\\_\\_()** and **\\_\\_next\\_\\_()**.<br/>\n",
    "- The **\\_\\_iter\\_\\_()** method is used to initialize the iterator object. This method returns the iterator object itself.\n",
    "- The **\\_\\_next\\_\\_()** method is used for iteration. This method returns the next value from the iterator. If there are no more items to return, it should raise StopIteration."
   ]
  },
  {
   "cell_type": "code",
   "execution_count": 4,
   "id": "9748daf8",
   "metadata": {},
   "outputs": [
    {
     "name": "stdout",
     "output_type": "stream",
     "text": [
      "2\n",
      "4\n",
      "6\n",
      "8\n",
      "10\n"
     ]
    }
   ],
   "source": [
    "class MyIterator:\n",
    "    def __init__(self, data):\n",
    "        self.data = data\n",
    "        self.index = 0\n",
    "\n",
    "    def __iter__(self):\n",
    "        return self\n",
    "\n",
    "    def __next__(self):\n",
    "        if self.index >= len(self.data):\n",
    "            raise StopIteration\n",
    "        else:\n",
    "            item = self.data[self.index]\n",
    "            self.index += 1\n",
    "            return item\n",
    "\n",
    "numbers = [2, 4, 6, 8, 10, 12, 14, 16, 18, 20]\n",
    "\n",
    "my_iterator = MyIterator(numbers)\n",
    "\n",
    "for i in range(5):\n",
    "    print(next(my_iterator))"
   ]
  },
  {
   "cell_type": "markdown",
   "id": "9225cc7f",
   "metadata": {},
   "source": [
    "In Python, a generator function is a special type of function that generates a generator object. A generator function is defined like a normal function, but instead of returning a value, it uses the **\\`yield\\`** keyword to return a generator.\n",
    "\n",
    "The **\\`yield\\`** keyword is used to produce a value, and then suspends the function's execution and remembers the location of the code execution, so that it can be resumed later on. When the generator function is called, it returns a generator object, which can be iterated over using a **\\`for\\`** loop or the **\\`next()\\`** function."
   ]
  },
  {
   "cell_type": "code",
   "execution_count": 6,
   "id": "9e0d10fb",
   "metadata": {},
   "outputs": [
    {
     "name": "stdout",
     "output_type": "stream",
     "text": [
      "2\n",
      "3\n",
      "5\n",
      "7\n",
      "11\n",
      "13\n",
      "17\n",
      "19\n",
      "23\n",
      "29\n",
      "31\n",
      "37\n",
      "41\n",
      "43\n",
      "47\n",
      "53\n",
      "59\n",
      "61\n",
      "67\n",
      "71\n"
     ]
    }
   ],
   "source": [
    "def primes():\n",
    "    yield 2\n",
    "    primes = [2]\n",
    "    number = 3\n",
    "    while number < 1000:\n",
    "        is_prime = True\n",
    "        for prime in primes:\n",
    "            if prime * prime > number:\n",
    "                break\n",
    "            if number % prime == 0:\n",
    "                is_prime = False\n",
    "                break\n",
    "        if is_prime:\n",
    "            primes.append(number)\n",
    "            yield number\n",
    "        number += 2\n",
    "\n",
    "prime_numbers = primes()\n",
    "\n",
    "for i in range(20):\n",
    "    print(next(prime_numbers))"
   ]
  },
  {
   "cell_type": "code",
   "execution_count": null,
   "id": "572f80bd",
   "metadata": {},
   "outputs": [],
   "source": []
  }
 ],
 "metadata": {
  "kernelspec": {
   "display_name": "Python 3",
   "language": "python",
   "name": "python3"
  },
  "language_info": {
   "codemirror_mode": {
    "name": "ipython",
    "version": 3
   },
   "file_extension": ".py",
   "mimetype": "text/x-python",
   "name": "python",
   "nbconvert_exporter": "python",
   "pygments_lexer": "ipython3",
   "version": "3.8.8"
  }
 },
 "nbformat": 4,
 "nbformat_minor": 5
}
